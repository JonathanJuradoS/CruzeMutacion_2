{
  "cells": [
    {
      "cell_type": "markdown",
      "metadata": {
        "id": "view-in-github",
        "colab_type": "text"
      },
      "source": [
        "<a href=\"https://colab.research.google.com/github/JonathanJuradoS/CruzeMutacion_2/blob/main/AG_Generacional_Asignacion_Final.ipynb\" target=\"_parent\"><img src=\"https://colab.research.google.com/assets/colab-badge.svg\" alt=\"Open In Colab\"/></a>"
      ]
    },
    {
      "cell_type": "markdown",
      "id": "07e3b4c4",
      "metadata": {
        "id": "07e3b4c4"
      },
      "source": [
        "# 🧬 Algoritmo Genético Generacional – Asignación Docente-Curso\n",
        "**Objetivo:** Asignar 1000 cursos a docentes considerando especialidad, carga y nivel académico."
      ]
    },
    {
      "cell_type": "markdown",
      "id": "ecaf8f71",
      "metadata": {
        "id": "ecaf8f71"
      },
      "source": [
        "## 🔽 Paso 1: Cargar los datasets"
      ]
    },
    {
      "cell_type": "code",
      "execution_count": 1,
      "id": "40b4649e",
      "metadata": {
        "colab": {
          "base_uri": "https://localhost:8080/"
        },
        "id": "40b4649e",
        "outputId": "5238a587-f6fb-496a-db5b-503eb33a3851"
      },
      "outputs": [
        {
          "output_type": "execute_result",
          "data": {
            "text/plain": [
              "(  docente_id    especialidad_docente  carga_maxima_docente  \\\n",
              " 0      D0001            Programacion                    10   \n",
              " 1      D0002          Bases de Datos                    12   \n",
              " 2      D0003          Bases de Datos                    16   \n",
              " 3      D0004  Ingenieria de Software                    10   \n",
              " 4      D0005          Bases de Datos                    10   \n",
              " \n",
              "   nivel_academico_docente  \n",
              " 0                Maestria  \n",
              " 1               Doctorado  \n",
              " 2                Maestria  \n",
              " 3               Doctorado  \n",
              " 4               Bachiller  ,\n",
              "   curso_id especialidad_curso  horas_curso nivel_requerido_curso\n",
              " 0    C0001     Bases de Datos            5              Maestria\n",
              " 1    C0002       Programacion            5             Bachiller\n",
              " 2    C0003       Programacion            4              Titulado\n",
              " 3    C0004              Redes            4             Doctorado\n",
              " 4    C0005                 IA            2             Doctorado)"
            ]
          },
          "metadata": {},
          "execution_count": 1
        }
      ],
      "source": [
        "import pandas as pd\n",
        "\n",
        "df_docentes = pd.read_csv('docentes_2000.csv')\n",
        "df_cursos = pd.read_csv('cursos_1000.csv')\n",
        "df_docentes.head(), df_cursos.head()"
      ]
    },
    {
      "cell_type": "markdown",
      "id": "261868ed",
      "metadata": {
        "id": "261868ed"
      },
      "source": [
        "## 🧠 Paso 2: Representación e Inicialización\n",
        "Un individuo es una lista de 1000 posiciones donde cada valor representa un docente asignado a un curso."
      ]
    },
    {
      "cell_type": "code",
      "execution_count": 2,
      "id": "be115f9f",
      "metadata": {
        "id": "be115f9f"
      },
      "outputs": [],
      "source": [
        "import random\n",
        "\n",
        "cursos = df_cursos['curso_id'].tolist()\n",
        "docentes = df_docentes['docente_id'].tolist()\n",
        "\n",
        "def crear_individuo():\n",
        "    return [random.choice(docentes) for _ in cursos]\n",
        "\n",
        "def crear_poblacion(n):\n",
        "    return [crear_individuo() for _ in range(n)]\n",
        "\n",
        "poblacion = crear_poblacion(20)"
      ]
    },
    {
      "cell_type": "markdown",
      "id": "fa60f49b",
      "metadata": {
        "id": "fa60f49b"
      },
      "source": [
        "## 📏 Paso 3: Evaluación de individuos (fitness)\n",
        "Evalúa compatibilidad por especialidad, no exceder la carga máxima, y cumplir el nivel requerido."
      ]
    },
    {
      "cell_type": "code",
      "execution_count": 3,
      "id": "22f8513c",
      "metadata": {
        "id": "22f8513c"
      },
      "outputs": [],
      "source": [
        "def obtener_info(curso_id, docente_id):\n",
        "    fila_curso = df_cursos[df_cursos['curso_id'] == curso_id].iloc[0]\n",
        "    fila_docente = df_docentes[df_docentes['docente_id'] == docente_id].iloc[0]\n",
        "    score = 0\n",
        "    if fila_curso['especialidad_curso'] == fila_docente['especialidad_docente']:\n",
        "        score += 10\n",
        "    if fila_curso['nivel_requerido_curso'] == fila_docente['nivel_academico_docente']:\n",
        "        score += 5\n",
        "    if fila_curso['horas_curso'] <= fila_docente['carga_maxima_docente']:\n",
        "        score += 10\n",
        "    else:\n",
        "        score -= 20\n",
        "    return score\n",
        "\n",
        "def fitness(ind):\n",
        "    return sum(obtener_info(curso, docente) for curso, docente in zip(cursos, ind))"
      ]
    },
    {
      "cell_type": "markdown",
      "id": "c9534be0",
      "metadata": {
        "id": "c9534be0"
      },
      "source": [
        "## 🔄 Paso 4: Cruce y Mutación\n",
        "Usamos cruce de un punto y mutación con baja probabilidad."
      ]
    },
    {
      "cell_type": "code",
      "execution_count": 4,
      "id": "e3dc7561",
      "metadata": {
        "id": "e3dc7561"
      },
      "outputs": [],
      "source": [
        "def cruce(p1, p2):\n",
        "    punto = random.randint(1, len(p1) - 2)\n",
        "    return p1[:punto] + p2[punto:], p2[:punto] + p1[punto:]\n",
        "\n",
        "def mutacion(ind, tasa=0.01):\n",
        "    for i in range(len(ind)):\n",
        "        if random.random() < tasa:\n",
        "            ind[i] = random.choice(docentes)\n",
        "    return ind"
      ]
    },
    {
      "cell_type": "markdown",
      "id": "2e043098",
      "metadata": {
        "id": "2e043098"
      },
      "source": [
        "## 👥 Paso 5: Selección por Torneo\n",
        "Seleccionamos los mejores individuos mediante competencias aleatorias."
      ]
    },
    {
      "cell_type": "code",
      "execution_count": 5,
      "id": "22ca5006",
      "metadata": {
        "id": "22ca5006"
      },
      "outputs": [],
      "source": [
        "def torneo(poblacion):\n",
        "    i, j = random.sample(range(len(poblacion)), 2)\n",
        "    return poblacion[i] if fitness(poblacion[i]) > fitness(poblacion[j]) else poblacion[j]"
      ]
    },
    {
      "cell_type": "markdown",
      "id": "fc91b5ce",
      "metadata": {
        "id": "fc91b5ce"
      },
      "source": [
        "## 🚀 Paso 6: Evolución Generacional"
      ]
    },
    {
      "cell_type": "code",
      "execution_count": 6,
      "id": "f9a35e75",
      "metadata": {
        "id": "f9a35e75"
      },
      "outputs": [],
      "source": [
        "def evolucion(poblacion, generaciones=10):\n",
        "    historial = []\n",
        "    for _ in range(generaciones):\n",
        "        nueva = []\n",
        "        while len(nueva) < len(poblacion):\n",
        "            p1 = torneo(poblacion)\n",
        "            p2 = torneo(poblacion)\n",
        "            h1, h2 = cruce(p1, p2)\n",
        "            nueva.append(mutacion(h1))\n",
        "            nueva.append(mutacion(h2))\n",
        "        poblacion = nueva[:len(poblacion)]\n",
        "        historial.append(fitness(max(poblacion, key=fitness)))\n",
        "    return poblacion, historial\n",
        "\n",
        "poblacion, historial = evolucion(poblacion)\n",
        "mejor = max(poblacion, key=fitness)"
      ]
    },
    {
      "cell_type": "markdown",
      "id": "7894bba5",
      "metadata": {
        "id": "7894bba5"
      },
      "source": [
        "## 📈 Paso 7: Historial del Fitness"
      ]
    },
    {
      "cell_type": "code",
      "execution_count": 7,
      "id": "d0cac9d9",
      "metadata": {
        "id": "d0cac9d9",
        "colab": {
          "base_uri": "https://localhost:8080/",
          "height": 472
        },
        "outputId": "909bc666-6143-4fa9-89b1-12dad37cf645"
      },
      "outputs": [
        {
          "output_type": "display_data",
          "data": {
            "text/plain": [
              "<Figure size 640x480 with 1 Axes>"
            ],
            "image/png": "[encoded data removed]"
          },
          "metadata": {}
        }
      ],
      "source": [
        "import matplotlib.pyplot as plt\n",
        "\n",
        "plt.plot(historial, marker='o')\n",
        "plt.title('Evolución del Fitness')\n",
        "plt.xlabel('Generaciones')\n",
        "plt.ylabel('Fitness')\n",
        "plt.grid(True)\n",
        "plt.show()"
      ]
    },
    {
      "cell_type": "markdown",
      "id": "b677cd31",
      "metadata": {
        "id": "b677cd31"
      },
      "source": [
        "## 📤 Paso 8: Exportar a Excel la Mejor Asignación"
      ]
    },
    {
      "cell_type": "code",
      "execution_count": 8,
      "id": "5d895ea2",
      "metadata": {
        "id": "5d895ea2",
        "colab": {
          "base_uri": "https://localhost:8080/",
          "height": 206
        },
        "outputId": "f8be7694-a7b9-4e36-f43a-2745173f1b6c"
      },
      "outputs": [
        {
          "output_type": "execute_result",
          "data": {
            "text/plain": [
              "  curso_id docente_id especialidad_curso  horas_curso nivel_requerido_curso  \\\n",
              "0    C0001      D0340     Bases de Datos            5              Maestria   \n",
              "1    C0002      D1598       Programacion            5             Bachiller   \n",
              "2    C0003      D0157       Programacion            4              Titulado   \n",
              "3    C0004      D1766              Redes            4             Doctorado   \n",
              "4    C0005      D0060                 IA            2             Doctorado   \n",
              "\n",
              "     especialidad_docente  carga_maxima_docente nivel_academico_docente  \n",
              "0  Ingenieria de Software                    14                Maestria  \n",
              "1                      IA                    12               Bachiller  \n",
              "2            Programacion                    14               Bachiller  \n",
              "3                      IA                    10               Doctorado  \n",
              "4  Ingenieria de Software                    10               Bachiller  "
            ],
            "text/html": [
              "\n",
              "  <div id=\"df-7710133a-21fe-43a5-9575-8792eb547bc5\" class=\"colab-df-container\">\n",
              "    <div>\n",
              "<style scoped>\n",
              "    .dataframe tbody tr th:only-of-type {\n",
              "        vertical-align: middle;\n",
              "    }\n",
              "\n",
              "    .dataframe tbody tr th {\n",
              "        vertical-align: top;\n",
              "    }\n",
              "\n",
              "    .dataframe thead th {\n",
              "        text-align: right;\n",
              "    }\n",
              "</style>\n",
              "<table border=\"1\" class=\"dataframe\">\n",
              "  <thead>\n",
              "    <tr style=\"text-align: right;\">\n",
              "      <th></th>\n",
              "      <th>curso_id</th>\n",
              "      <th>docente_id</th>\n",
              "      <th>especialidad_curso</th>\n",
              "      <th>horas_curso</th>\n",
              "      <th>nivel_requerido_curso</th>\n",
              "      <th>especialidad_docente</th>\n",
              "      <th>carga_maxima_docente</th>\n",
              "      <th>nivel_academico_docente</th>\n",
              "    </tr>\n",
              "  </thead>\n",
              "  <tbody>\n",
              "    <tr>\n",
              "      <th>0</th>\n",
              "      <td>C0001</td>\n",
              "      <td>D0340</td>\n",
              "      <td>Bases de Datos</td>\n",
              "      <td>5</td>\n",
              "      <td>Maestria</td>\n",
              "      <td>Ingenieria de Software</td>\n",
              "      <td>14</td>\n",
              "      <td>Maestria</td>\n",
              "    </tr>\n",
              "    <tr>\n",
              "      <th>1</th>\n",
              "      <td>C0002</td>\n",
              "      <td>D1598</td>\n",
              "      <td>Programacion</td>\n",
              "      <td>5</td>\n",
              "      <td>Bachiller</td>\n",
              "      <td>IA</td>\n",
              "      <td>12</td>\n",
              "      <td>Bachiller</td>\n",
              "    </tr>\n",
              "    <tr>\n",
              "      <th>2</th>\n",
              "      <td>C0003</td>\n",
              "      <td>D0157</td>\n",
              "      <td>Programacion</td>\n",
              "      <td>4</td>\n",
              "      <td>Titulado</td>\n",
              "      <td>Programacion</td>\n",
              "      <td>14</td>\n",
              "      <td>Bachiller</td>\n",
              "    </tr>\n",
              "    <tr>\n",
              "      <th>3</th>\n",
              "      <td>C0004</td>\n",
              "      <td>D1766</td>\n",
              "      <td>Redes</td>\n",
              "      <td>4</td>\n",
              "      <td>Doctorado</td>\n",
              "      <td>IA</td>\n",
              "      <td>10</td>\n",
              "      <td>Doctorado</td>\n",
              "    </tr>\n",
              "    <tr>\n",
              "      <th>4</th>\n",
              "      <td>C0005</td>\n",
              "      <td>D0060</td>\n",
              "      <td>IA</td>\n",
              "      <td>2</td>\n",
              "      <td>Doctorado</td>\n",
              "      <td>Ingenieria de Software</td>\n",
              "      <td>10</td>\n",
              "      <td>Bachiller</td>\n",
              "    </tr>\n",
              "  </tbody>\n",
              "</table>\n",
              "</div>\n",
              "    <div class=\"colab-df-buttons\">\n",
              "\n",
              "  <div class=\"colab-df-container\">\n",
              "    <button class=\"colab-df-convert\" onclick=\"convertToInteractive('df-7710133a-21fe-43a5-9575-8792eb547bc5')\"\n",
              "            title=\"Convert this dataframe to an interactive table.\"\n",
              "            style=\"display:none;\">\n",
              "\n",
              "  <svg xmlns=\"http://www.w3.org/2000/svg\" height=\"24px\" viewBox=\"0 -960 960 960\">\n",
              "    <path d=\"M120-120v-720h720v720H120Zm60-500h600v-160H180v160Zm220 220h160v-160H400v160Zm0 220h160v-160H400v160ZM180-400h160v-160H180v160Zm440 0h160v-160H620v160ZM180-180h160v-160H180v160Zm440 0h160v-160H620v160Z\"/>\n",
              "  </svg>\n",
              "    </button>\n",
              "\n",
              "  <style>\n",
              "    .colab-df-container {\n",
              "      display:flex;\n",
              "      gap: 12px;\n",
              "    }\n",
              "\n",
              "    .colab-df-convert {\n",
              "      background-color: #E8F0FE;\n",
              "      border: none;\n",
              "      border-radius: 50%;\n",
              "      cursor: pointer;\n",
              "      display: none;\n",
              "      fill: #1967D2;\n",
              "      height: 32px;\n",
              "      padding: 0 0 0 0;\n",
              "      width: 32px;\n",
              "    }\n",
              "\n",
              "    .colab-df-convert:hover {\n",
              "      background-color: #E2EBFA;\n",
              "      box-shadow: 0px 1px 2px rgba(60, 64, 67, 0.3), 0px 1px 3px 1px rgba(60, 64, 67, 0.15);\n",
              "      fill: #174EA6;\n",
              "    }\n",
              "\n",
              "    .colab-df-buttons div {\n",
              "      margin-bottom: 4px;\n",
              "    }\n",
              "\n",
              "    [theme=dark] .colab-df-convert {\n",
              "      background-color: #3B4455;\n",
              "      fill: #D2E3FC;\n",
              "    }\n",
              "\n",
              "    [theme=dark] .colab-df-convert:hover {\n",
              "      background-color: #434B5C;\n",
              "      box-shadow: 0px 1px 3px 1px rgba(0, 0, 0, 0.15);\n",
              "      filter: drop-shadow(0px 1px 2px rgba(0, 0, 0, 0.3));\n",
              "      fill: #FFFFFF;\n",
              "    }\n",
              "  </style>\n",
              "\n",
              "    <script>\n",
              "      const buttonEl =\n",
              "        document.querySelector('#df-7710133a-21fe-43a5-9575-8792eb547bc5 button.colab-df-convert');\n",
              "      buttonEl.style.display =\n",
              "        google.colab.kernel.accessAllowed ? 'block' : 'none';\n",
              "\n",
              "      async function convertToInteractive(key) {\n",
              "        const element = document.querySelector('#df-7710133a-21fe-43a5-9575-8792eb547bc5');\n",
              "        const dataTable =\n",
              "          await google.colab.kernel.invokeFunction('convertToInteractive',\n",
              "                                                    [key], {});\n",
              "        if (!dataTable) return;\n",
              "\n",
              "        const docLinkHtml = 'Like what you see? Visit the ' +\n",
              "          '<a target=\"_blank\" href=https://colab.research.google.com/notebooks/data_table.ipynb>data table notebook</a>'\n",
              "          + ' to learn more about interactive tables.';\n",
              "        element.innerHTML = '';\n",
              "        dataTable['output_type'] = 'display_data';\n",
              "        await google.colab.output.renderOutput(dataTable, element);\n",
              "        const docLink = document.createElement('div');\n",
              "        docLink.innerHTML = docLinkHtml;\n",
              "        element.appendChild(docLink);\n",
              "      }\n",
              "    </script>\n",
              "  </div>\n",
              "\n",
              "\n",
              "    <div id=\"df-4fc9153c-d38c-41fe-9b9a-428dbba61020\">\n",
              "      <button class=\"colab-df-quickchart\" onclick=\"quickchart('df-4fc9153c-d38c-41fe-9b9a-428dbba61020')\"\n",
              "                title=\"Suggest charts\"\n",
              "                style=\"display:none;\">\n",
              "\n",
              "<svg xmlns=\"http://www.w3.org/2000/svg\" height=\"24px\"viewBox=\"0 0 24 24\"\n",
              "     width=\"24px\">\n",
              "    <g>\n",
              "        <path d=\"M19 3H5c-1.1 0-2 .9-2 2v14c0 1.1.9 2 2 2h14c1.1 0 2-.9 2-2V5c0-1.1-.9-2-2-2zM9 17H7v-7h2v7zm4 0h-2V7h2v10zm4 0h-2v-4h2v4z\"/>\n",
              "    </g>\n",
              "</svg>\n",
              "      </button>\n",
              "\n",
              "<style>\n",
              "  .colab-df-quickchart {\n",
              "      --bg-color: #E8F0FE;\n",
              "      --fill-color: #1967D2;\n",
              "      --hover-bg-color: #E2EBFA;\n",
              "      --hover-fill-color: #174EA6;\n",
              "      --disabled-fill-color: #AAA;\n",
              "      --disabled-bg-color: #DDD;\n",
              "  }\n",
              "\n",
              "  [theme=dark] .colab-df-quickchart {\n",
              "      --bg-color: #3B4455;\n",
              "      --fill-color: #D2E3FC;\n",
              "      --hover-bg-color: #434B5C;\n",
              "      --hover-fill-color: #FFFFFF;\n",
              "      --disabled-bg-color: #3B4455;\n",
              "      --disabled-fill-color: #666;\n",
              "  }\n",
              "\n",
              "  .colab-df-quickchart {\n",
              "    background-color: var(--bg-color);\n",
              "    border: none;\n",
              "    border-radius: 50%;\n",
              "    cursor: pointer;\n",
              "    display: none;\n",
              "    fill: var(--fill-color);\n",
              "    height: 32px;\n",
              "    padding: 0;\n",
              "    width: 32px;\n",
              "  }\n",
              "\n",
              "  .colab-df-quickchart:hover {\n",
              "    background-color: var(--hover-bg-color);\n",
              "    box-shadow: 0 1px 2px rgba(60, 64, 67, 0.3), 0 1px 3px 1px rgba(60, 64, 67, 0.15);\n",
              "    fill: var(--button-hover-fill-color);\n",
              "  }\n",
              "\n",
              "  .colab-df-quickchart-complete:disabled,\n",
              "  .colab-df-quickchart-complete:disabled:hover {\n",
              "    background-color: var(--disabled-bg-color);\n",
              "    fill: var(--disabled-fill-color);\n",
              "    box-shadow: none;\n",
              "  }\n",
              "\n",
              "  .colab-df-spinner {\n",
              "    border: 2px solid var(--fill-color);\n",
              "    border-color: transparent;\n",
              "    border-bottom-color: var(--fill-color);\n",
              "    animation:\n",
              "      spin 1s steps(1) infinite;\n",
              "  }\n",
              "\n",
              "  @keyframes spin {\n",
              "    0% {\n",
              "      border-color: transparent;\n",
              "      border-bottom-color: var(--fill-color);\n",
              "      border-left-color: var(--fill-color);\n",
              "    }\n",
              "    20% {\n",
              "      border-color: transparent;\n",
              "      border-left-color: var(--fill-color);\n",
              "      border-top-color: var(--fill-color);\n",
              "    }\n",
              "    30% {\n",
              "      border-color: transparent;\n",
              "      border-left-color: var(--fill-color);\n",
              "      border-top-color: var(--fill-color);\n",
              "      border-right-color: var(--fill-color);\n",
              "    }\n",
              "    40% {\n",
              "      border-color: transparent;\n",
              "      border-right-color: var(--fill-color);\n",
              "      border-top-color: var(--fill-color);\n",
              "    }\n",
              "    60% {\n",
              "      border-color: transparent;\n",
              "      border-right-color: var(--fill-color);\n",
              "    }\n",
              "    80% {\n",
              "      border-color: transparent;\n",
              "      border-right-color: var(--fill-color);\n",
              "      border-bottom-color: var(--fill-color);\n",
              "    }\n",
              "    90% {\n",
              "      border-color: transparent;\n",
              "      border-bottom-color: var(--fill-color);\n",
              "    }\n",
              "  }\n",
              "</style>\n",
              "\n",
              "      <script>\n",
              "        async function quickchart(key) {\n",
              "          const quickchartButtonEl =\n",
              "            document.querySelector('#' + key + ' button');\n",
              "          quickchartButtonEl.disabled = true;  // To prevent multiple clicks.\n",
              "          quickchartButtonEl.classList.add('colab-df-spinner');\n",
              "          try {\n",
              "            const charts = await google.colab.kernel.invokeFunction(\n",
              "                'suggestCharts', [key], {});\n",
              "          } catch (error) {\n",
              "            console.error('Error during call to suggestCharts:', error);\n",
              "          }\n",
              "          quickchartButtonEl.classList.remove('colab-df-spinner');\n",
              "          quickchartButtonEl.classList.add('colab-df-quickchart-complete');\n",
              "        }\n",
              "        (() => {\n",
              "          let quickchartButtonEl =\n",
              "            document.querySelector('#df-4fc9153c-d38c-41fe-9b9a-428dbba61020 button');\n",
              "          quickchartButtonEl.style.display =\n",
              "            google.colab.kernel.accessAllowed ? 'block' : 'none';\n",
              "        })();\n",
              "      </script>\n",
              "    </div>\n",
              "\n",
              "    </div>\n",
              "  </div>\n"
            ],
            "application/vnd.google.colaboratory.intrinsic+json": {
              "type": "dataframe",
              "variable_name": "df_export",
              "summary": "{\n  \"name\": \"df_export\",\n  \"rows\": 1000,\n  \"fields\": [\n    {\n      \"column\": \"curso_id\",\n      \"properties\": {\n        \"dtype\": \"string\",\n        \"num_unique_values\": 1000,\n        \"samples\": [\n          \"C0522\",\n          \"C0738\",\n          \"C0741\"\n        ],\n        \"semantic_type\": \"\",\n        \"description\": \"\"\n      }\n    },\n    {\n      \"column\": \"docente_id\",\n      \"properties\": {\n        \"dtype\": \"string\",\n        \"num_unique_values\": 815,\n        \"samples\": [\n          \"D0173\",\n          \"D0145\",\n          \"D1160\"\n        ],\n        \"semantic_type\": \"\",\n        \"description\": \"\"\n      }\n    },\n    {\n      \"column\": \"especialidad_curso\",\n      \"properties\": {\n        \"dtype\": \"category\",\n        \"num_unique_values\": 6,\n        \"samples\": [\n          \"Bases de Datos\",\n          \"Programacion\",\n          \"Ingenieria de Software\"\n        ],\n        \"semantic_type\": \"\",\n        \"description\": \"\"\n      }\n    },\n    {\n      \"column\": \"horas_curso\",\n      \"properties\": {\n        \"dtype\": \"number\",\n        \"std\": 1,\n        \"min\": 2,\n        \"max\": 5,\n        \"num_unique_values\": 4,\n        \"samples\": [\n          4,\n          3,\n          5\n        ],\n        \"semantic_type\": \"\",\n        \"description\": \"\"\n      }\n    },\n    {\n      \"column\": \"nivel_requerido_curso\",\n      \"properties\": {\n        \"dtype\": \"category\",\n        \"num_unique_values\": 4,\n        \"samples\": [\n          \"Bachiller\",\n          \"Doctorado\",\n          \"Maestria\"\n        ],\n        \"semantic_type\": \"\",\n        \"description\": \"\"\n      }\n    },\n    {\n      \"column\": \"especialidad_docente\",\n      \"properties\": {\n        \"dtype\": \"category\",\n        \"num_unique_values\": 6,\n        \"samples\": [\n          \"Ingenieria de Software\",\n          \"IA\",\n          \"Seguridad\"\n        ],\n        \"semantic_type\": \"\",\n        \"description\": \"\"\n      }\n    },\n    {\n      \"column\": \"carga_maxima_docente\",\n      \"properties\": {\n        \"dtype\": \"number\",\n        \"std\": 2,\n        \"min\": 10,\n        \"max\": 16,\n        \"num_unique_values\": 4,\n        \"samples\": [\n          12,\n          16,\n          14\n        ],\n        \"semantic_type\": \"\",\n        \"description\": \"\"\n      }\n    },\n    {\n      \"column\": \"nivel_academico_docente\",\n      \"properties\": {\n        \"dtype\": \"category\",\n        \"num_unique_values\": 4,\n        \"samples\": [\n          \"Bachiller\",\n          \"Titulado\",\n          \"Maestria\"\n        ],\n        \"semantic_type\": \"\",\n        \"description\": \"\"\n      }\n    }\n  ]\n}"
            }
          },
          "metadata": {},
          "execution_count": 8
        }
      ],
      "source": [
        "asignaciones = list(zip(cursos, mejor))\n",
        "df_asignacion = pd.DataFrame(asignaciones, columns=['curso_id', 'docente_id'])\n",
        "df_export = pd.merge(df_asignacion, df_cursos, on='curso_id')\n",
        "df_export = pd.merge(df_export, df_docentes, on='docente_id')\n",
        "df_export.to_excel('AG_Generacional_Asignaciones.xlsx', index=False)\n",
        "df_export.head()"
      ]
    },
    {
      "source": [
        "# @title nivel_academico_docente vs horas_curso\n",
        "\n",
        "from matplotlib import pyplot as plt\n",
        "import seaborn as sns\n",
        "figsize = (12, 1.2 * len(df_export['nivel_academico_docente'].unique()))\n",
        "plt.figure(figsize=figsize)\n",
        "sns.violinplot(df_export, x='horas_curso', y='nivel_academico_docente', inner='box', palette='Dark2')\n",
        "sns.despine(top=True, right=True, bottom=True, left=True)"
      ],
      "cell_type": "code",
      "execution_count": 9,
      "outputs": [
        {
          "output_type": "stream",
          "name": "stderr",
          "text": [
            "<ipython-input-9-7becaa01b9b7>:7: FutureWarning: \n",
            "\n",
            "Passing `palette` without assigning `hue` is deprecated and will be removed in v0.14.0. Assign the `y` variable to `hue` and set `legend=False` for the same effect.\n",
            "\n",
            "  sns.violinplot(df_export, x='horas_curso', y='nivel_academico_docente', inner='box', palette='Dark2')\n"
          ]
        },
        {
          "output_type": "display_data",
          "data": {
            "text/plain": [
              "<Figure size 1200x480 with 1 Axes>"
            ],
            "image/png": "[encoded data removed]"
          },
          "metadata": {}
        }
      ],
      "metadata": {
        "cellView": "form",
        "colab": {
          "base_uri": "https://localhost:8080/",
          "height": 541
        },
        "id": "II6BEb0mgpdV",
        "outputId": "62d0a570-f2c2-4d32-ee49-51aa85dac19a"
      },
      "id": "II6BEb0mgpdV"
    },
    {
      "cell_type": "markdown",
      "id": "79aa6624",
      "metadata": {
        "id": "79aa6624"
      },
      "source": [
        "## ✅ Conclusiones por Fase\n",
        "- **Representación:** Uso de listas simples, una entrada por curso.\n",
        "- **Inicialización:** Diversidad inicial permite evitar soluciones locales pobres.\n",
        "- **Fitness:** Refuerza coincidencias y penaliza sobrecargas.\n",
        "- **Cruce/Mutación:** Permite evolución efectiva del conjunto de asignaciones.\n",
        "- **Generacional:** Al renovar toda la población, la presión selectiva es más efectiva para convergencia."
      ]
    }
  ],
  "metadata": {
    "colab": {
      "provenance": [],
      "include_colab_link": true
    },
    "language_info": {
      "name": "python"
    },
    "kernelspec": {
      "name": "python3",
      "display_name": "Python 3"
    }
  },
  "nbformat": 4,
  "nbformat_minor": 5
}